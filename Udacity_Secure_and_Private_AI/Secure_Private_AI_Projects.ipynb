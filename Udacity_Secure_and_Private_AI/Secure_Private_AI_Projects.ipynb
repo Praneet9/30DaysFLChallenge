{
 "cells": [
  {
   "cell_type": "markdown",
   "id": "21d270de-b11a-4408-86a3-09371d9aaf6b",
   "metadata": {},
   "source": [
    "## Section 1\n",
    "\n",
    "### Project: Generate Parallel Databases"
   ]
  },
  {
   "cell_type": "code",
   "execution_count": 1,
   "id": "5fbbe646-3e6c-42cc-8bd9-1f0b7fe1a018",
   "metadata": {},
   "outputs": [],
   "source": [
    "import torch"
   ]
  },
  {
   "cell_type": "code",
   "execution_count": 2,
   "id": "55d85a31-02bf-4aaa-8656-f75faee9cf25",
   "metadata": {},
   "outputs": [],
   "source": [
    "def create_random_db(num_entries):\n",
    "\n",
    "    db = torch.rand(num_entries) > 0.5\n",
    "    return db\n",
    "\n",
    "def get_parallel_db(db, remove_idx):\n",
    "\n",
    "    return torch.cat((db[:remove_idx], db[remove_idx+1:]))\n",
    "\n",
    "def create_parallel_dbs(n_entries):\n",
    "    all_dbs = []\n",
    "    db = create_random_db(n_entries)\n",
    "\n",
    "    for idx in range(len(db)):\n",
    "        parallel_db = get_parallel_db(db, idx)\n",
    "        all_dbs.append(parallel_db)\n",
    "\n",
    "    return db, all_dbs"
   ]
  },
  {
   "cell_type": "code",
   "execution_count": 3,
   "id": "4ab6169c-8564-4482-8d68-de72b15d2e92",
   "metadata": {},
   "outputs": [
    {
     "data": {
      "text/plain": [
       "(tensor([False,  True, False, False,  True]),\n",
       " [tensor([ True, False, False,  True]),\n",
       "  tensor([False, False, False,  True]),\n",
       "  tensor([False,  True, False,  True]),\n",
       "  tensor([False,  True, False,  True]),\n",
       "  tensor([False,  True, False, False])])"
      ]
     },
     "execution_count": 3,
     "metadata": {},
     "output_type": "execute_result"
    }
   ],
   "source": [
    "create_parallel_dbs(5)"
   ]
  },
  {
   "cell_type": "markdown",
   "id": "6bfd1855-cd2a-4d4f-b266-694c2ab1b571",
   "metadata": {},
   "source": [
    "---"
   ]
  },
  {
   "cell_type": "markdown",
   "id": "f5905fc2-4c97-4015-bbd1-77594b6662bd",
   "metadata": {},
   "source": [
    "## Section 2\n",
    "\n",
    "### Project: Evaluating the Privacy of a Function"
   ]
  },
  {
   "cell_type": "code",
   "execution_count": 4,
   "id": "8fcea8e3-023b-45e1-a4da-a51e84ef6dd6",
   "metadata": {},
   "outputs": [],
   "source": [
    "def sensitivity(query, n_entries=2000):\n",
    "\n",
    "    db, pdbs = create_parallel_dbs(n_entries)\n",
    "    full_db_res = query(db)\n",
    "\n",
    "    max_dist = 0\n",
    "    for pdb in pdbs:\n",
    "        pdb_res = query(pdb)\n",
    "\n",
    "        db_dist = torch.abs(pdb_res - full_db_res)\n",
    "\n",
    "        if (db_dist > max_dist):\n",
    "            max_dist = db_dist\n",
    "\n",
    "    return max_dist"
   ]
  },
  {
   "cell_type": "code",
   "execution_count": 5,
   "id": "bfb2bbd7-94df-4332-9504-713f6b7687ba",
   "metadata": {},
   "outputs": [],
   "source": [
    "def query(db):\n",
    "    return db.float().mean()"
   ]
  },
  {
   "cell_type": "code",
   "execution_count": 6,
   "id": "1f41340b-9923-4703-8347-3cbe80bc8c3b",
   "metadata": {},
   "outputs": [
    {
     "data": {
      "text/plain": [
       "tensor(0.0003)"
      ]
     },
     "execution_count": 6,
     "metadata": {},
     "output_type": "execute_result"
    }
   ],
   "source": [
    "sensitivity(query)"
   ]
  },
  {
   "cell_type": "markdown",
   "id": "99f5daa4-8f95-48aa-81bc-0ee7388ce48b",
   "metadata": {},
   "source": [
    "### Calculate L1 Sensitivity for Threshold"
   ]
  },
  {
   "cell_type": "code",
   "execution_count": 7,
   "id": "ced14e97-a7d6-4e12-a1e0-84918930ae8f",
   "metadata": {},
   "outputs": [],
   "source": [
    "def query(db, threshold=5):\n",
    "    return (db.sum() > threshold).float()"
   ]
  },
  {
   "cell_type": "code",
   "execution_count": 8,
   "id": "9edefa01-42c4-4b89-8165-8cc235790d51",
   "metadata": {},
   "outputs": [
    {
     "name": "stdout",
     "output_type": "stream",
     "text": [
      "0\n",
      "0\n",
      "0\n",
      "0\n",
      "0\n",
      "0\n",
      "0\n",
      "0\n",
      "0\n",
      "tensor(1.)\n"
     ]
    }
   ],
   "source": [
    "for i in range(10):\n",
    "    sensitivity_val = sensitivity(query, 10)\n",
    "    print(sensitivity_val)"
   ]
  },
  {
   "cell_type": "markdown",
   "id": "f16c3635-6690-4804-8b87-ebf8f7ac61b9",
   "metadata": {},
   "source": [
    "### Project: Perform a Differencing Attack"
   ]
  },
  {
   "cell_type": "code",
   "execution_count": 9,
   "id": "652cea8b-9fa9-4a95-baf6-accdd071a8a0",
   "metadata": {},
   "outputs": [],
   "source": [
    "db, _ = create_parallel_dbs(100)"
   ]
  },
  {
   "cell_type": "code",
   "execution_count": 10,
   "id": "c49a3199-e11e-4bfa-b8ef-a1e95c531530",
   "metadata": {},
   "outputs": [],
   "source": [
    "pdb = get_parallel_db(db, remove_idx=10)"
   ]
  },
  {
   "cell_type": "code",
   "execution_count": 11,
   "id": "a8a920cd-9cce-4d87-8a86-fe5106afbd80",
   "metadata": {},
   "outputs": [
    {
     "data": {
      "text/plain": [
       "tensor(1)"
      ]
     },
     "execution_count": 11,
     "metadata": {},
     "output_type": "execute_result"
    }
   ],
   "source": [
    "# Differencing attacking using sum\n",
    "\n",
    "sum(db) - sum(pdb)"
   ]
  },
  {
   "cell_type": "code",
   "execution_count": 12,
   "id": "e038f02f-0407-450b-ab13-6fe88833cbad",
   "metadata": {},
   "outputs": [
    {
     "data": {
      "text/plain": [
       "tensor(0.0049)"
      ]
     },
     "execution_count": 12,
     "metadata": {},
     "output_type": "execute_result"
    }
   ],
   "source": [
    "# Differencing attacking using mean\n",
    "\n",
    "(sum(db).float() / len(db)) - (sum(pdb).float() / len(pdb))"
   ]
  },
  {
   "cell_type": "code",
   "execution_count": 13,
   "id": "7481b060-9379-4dc3-8438-f6c911dd163e",
   "metadata": {},
   "outputs": [
    {
     "data": {
      "text/plain": [
       "tensor(0, dtype=torch.int32)"
      ]
     },
     "execution_count": 13,
     "metadata": {},
     "output_type": "execute_result"
    }
   ],
   "source": [
    "# Differencing attacking using threshold\n",
    "\n",
    "threshold = 49\n",
    "(sum(db).float() > threshold).int() - (sum(pdb).float() > threshold).int()"
   ]
  },
  {
   "cell_type": "markdown",
   "id": "da8cc9d2-a23c-489b-b038-042d5d241b02",
   "metadata": {},
   "source": [
    "---"
   ]
  },
  {
   "cell_type": "markdown",
   "id": "662b446e-59d9-464c-9de6-ae7dd909112b",
   "metadata": {},
   "source": [
    "## Section 3\n",
    "\n",
    "### Randomized Response (Local Differential Privacy)"
   ]
  },
  {
   "cell_type": "code",
   "execution_count": 14,
   "id": "52df91b4-5b94-4915-95ec-00f3b15d8290",
   "metadata": {},
   "outputs": [],
   "source": [
    "db, pdbs = create_parallel_dbs(100)"
   ]
  },
  {
   "cell_type": "code",
   "execution_count": 15,
   "id": "9725e9b5-abfa-4689-8303-6ddc091abb0c",
   "metadata": {},
   "outputs": [],
   "source": [
    "def query(db):\n",
    "\n",
    "    first_coin_flip = (torch.rand(len(db)) > 0.5).float()\n",
    "    second_coin_flip = (torch.rand(len(db)) > 0.5).float()\n",
    "\n",
    "    augmented_db = db.float() * first_coin_flip + (1 - first_coin_flip) * second_coin_flip\n",
    "\n",
    "    db_result = torch.mean(augmented_db.float()) * 2 - 0.5\n",
    "    true_result = torch.mean(db.float())\n",
    "\n",
    "    return db_result, true_result"
   ]
  },
  {
   "cell_type": "code",
   "execution_count": 16,
   "id": "02ebe133-565e-4b64-954c-cece6ffc91f0",
   "metadata": {},
   "outputs": [
    {
     "name": "stdout",
     "output_type": "stream",
     "text": [
      "With Noise: 0.30000001192092896\n",
      "Without Noise: 0.30000001192092896\n"
     ]
    }
   ],
   "source": [
    "db, pdbs = create_parallel_dbs(10)\n",
    "private_result, true_result = query(db)\n",
    "\n",
    "print(f\"With Noise: {private_result}\")\n",
    "print(f\"Without Noise: {true_result}\")"
   ]
  },
  {
   "cell_type": "code",
   "execution_count": 17,
   "id": "1a31c8b2-70ef-4a37-8f97-deff5a05abcc",
   "metadata": {},
   "outputs": [
    {
     "name": "stdout",
     "output_type": "stream",
     "text": [
      "With Noise: 0.5\n",
      "Without Noise: 0.41999998688697815\n"
     ]
    }
   ],
   "source": [
    "db, pdbs = create_parallel_dbs(100)\n",
    "private_result, true_result = query(db)\n",
    "\n",
    "print(f\"With Noise: {private_result}\")\n",
    "print(f\"Without Noise: {true_result}\")"
   ]
  },
  {
   "cell_type": "code",
   "execution_count": 18,
   "id": "b3a5f9d0-5c20-42f7-81ef-7fbba11a3a15",
   "metadata": {},
   "outputs": [
    {
     "name": "stdout",
     "output_type": "stream",
     "text": [
      "With Noise: 0.5759999752044678\n",
      "Without Noise: 0.5109999775886536\n"
     ]
    }
   ],
   "source": [
    "db, pdbs = create_parallel_dbs(1000)\n",
    "private_result, true_result = query(db)\n",
    "\n",
    "print(f\"With Noise: {private_result}\")\n",
    "print(f\"Without Noise: {true_result}\")"
   ]
  },
  {
   "cell_type": "code",
   "execution_count": 19,
   "id": "94458377-ca12-497b-9ad0-55e20b0f7eca",
   "metadata": {},
   "outputs": [
    {
     "name": "stdout",
     "output_type": "stream",
     "text": [
      "With Noise: 0.5118000507354736\n",
      "Without Noise: 0.4975000023841858\n"
     ]
    }
   ],
   "source": [
    "db, pdbs = create_parallel_dbs(10000)\n",
    "private_result, true_result = query(db)\n",
    "\n",
    "print(f\"With Noise: {private_result}\")\n",
    "print(f\"Without Noise: {true_result}\")"
   ]
  },
  {
   "cell_type": "markdown",
   "id": "ea6ca9ca-0301-4de2-b12d-a68ce42fcf31",
   "metadata": {},
   "source": [
    "### Project: Varying Amount of Noise"
   ]
  },
  {
   "cell_type": "code",
   "execution_count": 20,
   "id": "35cc6eb1-f717-4b90-98a6-df4b625faef5",
   "metadata": {},
   "outputs": [],
   "source": [
    "def query(db, noise=0.2):\n",
    "\n",
    "    first_coin_flip = (torch.rand(len(db)) > noise).float()\n",
    "    second_coin_flip = (torch.rand(len(db)) > 0.5).float()\n",
    "\n",
    "    augmented_db = db.float() * first_coin_flip + (1 - first_coin_flip) * second_coin_flip\n",
    "\n",
    "    sk_result = augmented_db.float().mean()\n",
    "    true_result = ((sk_result / noise) - 0.5) * noise / (1 - noise)\n",
    "\n",
    "    return sk_result, true_result"
   ]
  },
  {
   "cell_type": "code",
   "execution_count": 21,
   "id": "3888675c-0f9a-4b82-934e-05cd1344b10f",
   "metadata": {},
   "outputs": [
    {
     "name": "stdout",
     "output_type": "stream",
     "text": [
      "With Noise: 0.49869999289512634\n",
      "Without Noise: 0.49855557084083557\n"
     ]
    }
   ],
   "source": [
    "db, pdbs = create_parallel_dbs(10000)\n",
    "private_result, true_result = query(db, noise=0.1)\n",
    "\n",
    "print(f\"With Noise: {private_result}\")\n",
    "print(f\"Without Noise: {true_result}\")"
   ]
  },
  {
   "cell_type": "code",
   "execution_count": 22,
   "id": "77d8d939-e33f-4d05-a417-499433a9d8cd",
   "metadata": {},
   "outputs": [
    {
     "name": "stdout",
     "output_type": "stream",
     "text": [
      "With Noise: 0.4966000020503998\n",
      "Without Noise: 0.4957500100135803\n"
     ]
    }
   ],
   "source": [
    "db, pdbs = create_parallel_dbs(10000)\n",
    "private_result, true_result = query(db, noise=0.2)\n",
    "\n",
    "print(f\"With Noise: {private_result}\")\n",
    "print(f\"Without Noise: {true_result}\")"
   ]
  },
  {
   "cell_type": "code",
   "execution_count": 23,
   "id": "bcfff430-820b-4398-a0b5-20227a1b2bae",
   "metadata": {},
   "outputs": [
    {
     "name": "stdout",
     "output_type": "stream",
     "text": [
      "With Noise: 0.5023000240325928\n",
      "Without Noise: 0.5038333535194397\n"
     ]
    }
   ],
   "source": [
    "db, pdbs = create_parallel_dbs(10000)\n",
    "private_result, true_result = query(db, noise=0.4)\n",
    "\n",
    "print(f\"With Noise: {private_result}\")\n",
    "print(f\"Without Noise: {true_result}\")"
   ]
  },
  {
   "cell_type": "code",
   "execution_count": 24,
   "id": "e8842615-2e00-4ef0-9d5c-fc4a5a4223a9",
   "metadata": {},
   "outputs": [
    {
     "name": "stdout",
     "output_type": "stream",
     "text": [
      "With Noise: 0.503000020980835\n",
      "Without Noise: 0.5150001049041748\n"
     ]
    }
   ],
   "source": [
    "db, pdbs = create_parallel_dbs(10000)\n",
    "private_result, true_result = query(db, noise=0.8)\n",
    "\n",
    "print(f\"With Noise: {private_result}\")\n",
    "print(f\"Without Noise: {true_result}\")"
   ]
  },
  {
   "cell_type": "code",
   "execution_count": null,
   "id": "72921ad0-4883-45d0-82e1-cc44b515d464",
   "metadata": {},
   "outputs": [],
   "source": []
  }
 ],
 "metadata": {
  "kernelspec": {
   "display_name": "Python 3 (ipykernel)",
   "language": "python",
   "name": "python3"
  },
  "language_info": {
   "codemirror_mode": {
    "name": "ipython",
    "version": 3
   },
   "file_extension": ".py",
   "mimetype": "text/x-python",
   "name": "python",
   "nbconvert_exporter": "python",
   "pygments_lexer": "ipython3",
   "version": "3.10.12"
  }
 },
 "nbformat": 4,
 "nbformat_minor": 5
}
