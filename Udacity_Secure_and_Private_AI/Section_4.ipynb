{
 "cells": [
  {
   "cell_type": "markdown",
   "id": "011d0eaf-227c-479d-aa08-b4215a588b89",
   "metadata": {},
   "source": [
    "## Generating Differential Private Labels for a dataset"
   ]
  },
  {
   "cell_type": "code",
   "execution_count": 1,
   "id": "7f4df1f2-6581-4013-8475-139a9619a76f",
   "metadata": {},
   "outputs": [],
   "source": [
    "import numpy as np"
   ]
  },
  {
   "cell_type": "code",
   "execution_count": 2,
   "id": "86c2f0f8-c269-4557-b5f2-79db86879af9",
   "metadata": {},
   "outputs": [],
   "source": [
    "num_teachers = 10\n",
    "num_examples = 100\n",
    "num_labels = 10"
   ]
  },
  {
   "cell_type": "code",
   "execution_count": 3,
   "id": "862b64cf-7782-41ab-9bbe-2717c6339336",
   "metadata": {},
   "outputs": [],
   "source": [
    "preds = (np.random.rand(num_teachers, num_examples) * num_labels).astype(int).transpose(1, 0)"
   ]
  },
  {
   "cell_type": "code",
   "execution_count": 4,
   "id": "ed90ac94-2e30-4409-bd35-5085929a9dce",
   "metadata": {},
   "outputs": [],
   "source": [
    "new_labels = list()\n",
    "for an_image in preds:\n",
    "\n",
    "    label_counts = np.bincount(an_image, minlength=num_labels)\n",
    "\n",
    "    epsilon = 0.1\n",
    "    beta = 1/epsilon\n",
    "\n",
    "    for i in range(len(label_counts)):\n",
    "        label_counts[i] += np.random.laplace(0, beta, 1)\n",
    "\n",
    "    new_label = np.argmax(label_counts)\n",
    "\n",
    "    new_labels.append(new_label)"
   ]
  },
  {
   "cell_type": "markdown",
   "id": "f776858b-fbe3-4ef7-8c56-db9c93f5aefc",
   "metadata": {},
   "source": [
    "## PATE Analysis"
   ]
  },
  {
   "cell_type": "code",
   "execution_count": 5,
   "id": "b7b2a84e-4a4d-4094-b4db-1322ac74587c",
   "metadata": {},
   "outputs": [
    {
     "data": {
      "text/plain": [
       "9"
      ]
     },
     "execution_count": 5,
     "metadata": {},
     "output_type": "execute_result"
    }
   ],
   "source": [
    "labels = np.array([9, 9, 3, 4, 5, 6, 9, 3, 2, 5])\n",
    "counts = np.bincount(labels, minlength=10)\n",
    "query_result = np.argmax(counts)\n",
    "query_result"
   ]
  },
  {
   "cell_type": "markdown",
   "id": "8b02d9ef-7aa4-41df-9a9f-07d2b6fb77e0",
   "metadata": {},
   "source": [
    "NOTE: Not supported anymore with latest torch"
   ]
  },
  {
   "cell_type": "code",
   "execution_count": 1,
   "id": "2cd35bae-616c-4254-a914-ba538fbbbcc5",
   "metadata": {},
   "outputs": [],
   "source": [
    "import syft.frameworks.torch.dp.pate as pate"
   ]
  },
  {
   "cell_type": "code",
   "execution_count": null,
   "id": "0dc291db-8f48-46a1-b0cc-3bdd3b8959d4",
   "metadata": {},
   "outputs": [],
   "source": []
  }
 ],
 "metadata": {
  "kernelspec": {
   "display_name": "Python 3 (ipykernel)",
   "language": "python",
   "name": "python3"
  },
  "language_info": {
   "codemirror_mode": {
    "name": "ipython",
    "version": 3
   },
   "file_extension": ".py",
   "mimetype": "text/x-python",
   "name": "python",
   "nbconvert_exporter": "python",
   "pygments_lexer": "ipython3",
   "version": "3.10.12"
  }
 },
 "nbformat": 4,
 "nbformat_minor": 5
}
